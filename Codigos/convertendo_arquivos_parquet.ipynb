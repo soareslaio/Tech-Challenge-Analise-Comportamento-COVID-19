{
  "nbformat": 4,
  "nbformat_minor": 0,
  "metadata": {
    "colab": {
      "provenance": []
    },
    "kernelspec": {
      "name": "python3",
      "display_name": "Python 3"
    },
    "language_info": {
      "name": "python"
    }
  },
  "cells": [
    {
      "cell_type": "code",
      "source": [
        "import pandas as pd"
      ],
      "metadata": {
        "id": "wRZX0kTbKOl1"
      },
      "execution_count": null,
      "outputs": []
    },
    {
      "cell_type": "code",
      "source": [
        "from google.colab import drive\n",
        "drive.mount('/content/drive')"
      ],
      "metadata": {
        "colab": {
          "base_uri": "https://localhost:8080/"
        },
        "id": "oLegN8q0Ihs4",
        "outputId": "3e7038ad-27be-4220-c94b-945a07c1c58a"
      },
      "execution_count": null,
      "outputs": [
        {
          "output_type": "stream",
          "name": "stdout",
          "text": [
            "Drive already mounted at /content/drive; to attempt to forcibly remount, call drive.mount(\"/content/drive\", force_remount=True).\n"
          ]
        }
      ]
    },
    {
      "cell_type": "code",
      "source": [
        "df_pnad_09 = pd.read_csv('/content/drive/MyDrive/Tech Challenge 3/Dados Brutos/PNAD_COVID_092020.csv',sep=',')\n",
        "df_pnad_10 = pd.read_csv('/content/drive/MyDrive/Tech Challenge 3/Dados Brutos/PNAD_COVID_102020.csv',sep=',')\n",
        "df_pnad_11 = pd.read_csv('/content/drive/MyDrive/Tech Challenge 3/Dados Brutos/PNAD_COVID_112020.csv',sep=',')"
      ],
      "metadata": {
        "id": "D0tGt7TLFe3j"
      },
      "execution_count": null,
      "outputs": []
    },
    {
      "cell_type": "code",
      "source": [
        "df_pnad_09.to_parquet('/content/drive/MyDrive/Tech Challenge 3/Dados Parquet/PNAD_COVID_092020.parquet')\n",
        "df_pnad_10.to_parquet('/content/drive/MyDrive/Tech Challenge 3/Dados Parquet/PNAD_COVID_102020.parquet')\n",
        "df_pnad_11.to_parquet('/content/drive/MyDrive/Tech Challenge 3/Dados Parquet/PNAD_COVID_112020.parquet')"
      ],
      "metadata": {
        "id": "-PNaWLoQK0Nu"
      },
      "execution_count": null,
      "outputs": []
    }
  ]
}